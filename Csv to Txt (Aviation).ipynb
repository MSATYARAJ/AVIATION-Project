{
 "cells": [
  {
   "cell_type": "markdown",
   "id": "24e97210",
   "metadata": {},
   "source": [
    "# Here we learn how to convert a csv to txt file to create a table in SQL \n",
    "\n",
    "## #Because importing csv file (large) takes a lot of time in sql"
   ]
  },
  {
   "cell_type": "markdown",
   "id": "b2af88d9",
   "metadata": {},
   "source": [
    "## Importing Pandas Library"
   ]
  },
  {
   "cell_type": "code",
   "execution_count": null,
   "id": "cd6f3110",
   "metadata": {},
   "outputs": [],
   "source": [
    "import pandas as pd"
   ]
  },
  {
   "cell_type": "markdown",
   "id": "86a486b0",
   "metadata": {},
   "source": [
    "## Reading CSV file"
   ]
  },
  {
   "cell_type": "code",
   "execution_count": null,
   "id": "03f8d619",
   "metadata": {},
   "outputs": [],
   "source": [
    "f1 = pd.read_csv('airline.csv')"
   ]
  },
  {
   "cell_type": "markdown",
   "id": "69572133",
   "metadata": {},
   "source": [
    "## Seeing the data set"
   ]
  },
  {
   "cell_type": "code",
   "execution_count": null,
   "id": "30a4b0ac",
   "metadata": {},
   "outputs": [],
   "source": [
    "f1.head()"
   ]
  },
  {
   "cell_type": "markdown",
   "id": "ec5061f8",
   "metadata": {},
   "source": [
    "## Checking any null values are present or not"
   ]
  },
  {
   "cell_type": "code",
   "execution_count": null,
   "id": "82839b3f",
   "metadata": {},
   "outputs": [],
   "source": [
    "f1.isnull().sum()"
   ]
  },
  {
   "cell_type": "markdown",
   "id": "4d6e9b85",
   "metadata": {},
   "source": [
    "## Seeing the data types"
   ]
  },
  {
   "cell_type": "code",
   "execution_count": null,
   "id": "2407dbaf",
   "metadata": {},
   "outputs": [],
   "source": [
    "f1.dtypes"
   ]
  },
  {
   "cell_type": "markdown",
   "id": "389edc01",
   "metadata": {},
   "source": [
    "## Converting date into datetime datatype"
   ]
  },
  {
   "cell_type": "code",
   "execution_count": null,
   "id": "588b0095",
   "metadata": {},
   "outputs": [],
   "source": [
    "f1['FlightDate'] = pd.to_datetime(f1['FlightDate'],dayfirst=True)"
   ]
  },
  {
   "cell_type": "markdown",
   "id": "7d904fba",
   "metadata": {},
   "source": [
    "## Coverting row data into elemental data with comma delimiter using tuple and list"
   ]
  },
  {
   "cell_type": "code",
   "execution_count": null,
   "id": "62f4e201",
   "metadata": {},
   "outputs": [],
   "source": [
    "y = []\n",
    "\n",
    "for i in range(len(f1)):\n",
    "    x = tuple(f1.iloc[i])\n",
    "    y.append(x)\n",
    "\n",
    "y"
   ]
  },
  {
   "cell_type": "markdown",
   "id": "13a925dd",
   "metadata": {},
   "source": [
    "## Creating Text file using the above List of data "
   ]
  },
  {
   "cell_type": "code",
   "execution_count": null,
   "id": "c9c263db",
   "metadata": {},
   "outputs": [],
   "source": [
    "file = open('airline.txt','w')\n",
    "\n",
    "for tuple in y:\n",
    "    file.write(str(tuple) + ',' + '\\n')\n",
    "    \n",
    "file.close()"
   ]
  },
  {
   "cell_type": "code",
   "execution_count": null,
   "id": "b87d0661",
   "metadata": {},
   "outputs": [],
   "source": []
  },
  {
   "cell_type": "code",
   "execution_count": null,
   "id": "2a6b5ab9",
   "metadata": {},
   "outputs": [],
   "source": []
  },
  {
   "cell_type": "code",
   "execution_count": null,
   "id": "f4263a0c",
   "metadata": {},
   "outputs": [],
   "source": []
  }
 ],
 "metadata": {
  "kernelspec": {
   "display_name": "Python 3 (ipykernel)",
   "language": "python",
   "name": "python3"
  },
  "language_info": {
   "codemirror_mode": {
    "name": "ipython",
    "version": 3
   },
   "file_extension": ".py",
   "mimetype": "text/x-python",
   "name": "python",
   "nbconvert_exporter": "python",
   "pygments_lexer": "ipython3",
   "version": "3.11.5"
  }
 },
 "nbformat": 4,
 "nbformat_minor": 5
}
